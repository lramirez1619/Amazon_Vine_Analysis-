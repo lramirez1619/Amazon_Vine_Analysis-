{
  "cells": [
    {
      "cell_type": "markdown",
      "metadata": {
        "id": "view-in-github",
        "colab_type": "text"
      },
      "source": [
        "<a href=\"https://colab.research.google.com/github/lramirez1619/Amazon_Vine_Analysis-/blob/main/Vine_Review_Analysis.ipynb\" target=\"_parent\"><img src=\"https://colab.research.google.com/assets/colab-badge.svg\" alt=\"Open In Colab\"/></a>"
      ]
    },
    {
      "cell_type": "code",
      "execution_count": null,
      "id": "cafb3707",
      "metadata": {
        "id": "cafb3707"
      },
      "outputs": [],
      "source": [
        "import pandas as pd"
      ]
    },
    {
      "cell_type": "code",
      "execution_count": null,
      "id": "8fb285c0",
      "metadata": {
        "id": "8fb285c0"
      },
      "outputs": [],
      "source": [
        "df = pd.read_csv(\"vine_table.csv\")"
      ]
    },
    {
      "cell_type": "code",
      "execution_count": null,
      "id": "0945d6a7",
      "metadata": {
        "id": "0945d6a7",
        "outputId": "f78f6de8-fa9c-40b8-cded-d1d8f2827ab6"
      },
      "outputs": [
        {
          "name": "stdout",
          "output_type": "stream",
          "text": [
            "        review_id  star_rating  helpful_votes  total_votes vine  \\\n",
            "0  R3DT59XH7HXR9K          5.0            0.0          0.0    N   \n",
            "1  R1LFS11BNASSU8          5.0            0.0          1.0    N   \n",
            "2  R296RT05AG0AF6          5.0            0.0          0.0    N   \n",
            "3  R3V37XDZ7ZCI3L          5.0            0.0          1.0    N   \n",
            "4  R14GU232NQFYX2          5.0            0.0          0.0    N   \n",
            "\n",
            "  verified_purchase  \n",
            "0                 Y  \n",
            "1                 Y  \n",
            "2                 Y  \n",
            "3                 Y  \n",
            "4                 Y  \n"
          ]
        }
      ],
      "source": [
        "# print the first five rows\n",
        "print(df.head())"
      ]
    },
    {
      "cell_type": "code",
      "execution_count": null,
      "id": "bd77349c",
      "metadata": {
        "id": "bd77349c",
        "outputId": "d4980220-5c3b-4e34-cc82-6c76f1b632c6"
      },
      "outputs": [
        {
          "name": "stdout",
          "output_type": "stream",
          "text": [
            "           review_id  star_rating  helpful_votes  total_votes vine  \\\n",
            "18    R28RB82UG4RDD5          5.0           20.0         20.0    N   \n",
            "233   R3FB6BERWPEIJP          4.0           40.0         43.0    N   \n",
            "615   R1D4Z38STRDQXK          5.0           53.0         56.0    N   \n",
            "1065  R1XMWJZICINIFX          3.0           20.0         21.0    N   \n",
            "1105  R20QKY1GABXFLM          1.0          272.0        297.0    N   \n",
            "\n",
            "     verified_purchase  \n",
            "18                   Y  \n",
            "233                  Y  \n",
            "615                  Y  \n",
            "1065                 Y  \n",
            "1105                 Y  \n"
          ]
        }
      ],
      "source": [
        "# Step 1: Filter the original DataFrame to retrieve all rows where the total_votes count is greater than or equal to 20\n",
        "df_filtered = df.loc[df['total_votes'] >= 20]\n",
        "print(df_filtered.head())"
      ]
    },
    {
      "cell_type": "code",
      "execution_count": null,
      "id": "8405b72a",
      "metadata": {
        "id": "8405b72a",
        "outputId": "165de4eb-a872-4853-ba06-abab42760725"
      },
      "outputs": [
        {
          "name": "stdout",
          "output_type": "stream",
          "text": [
            "           review_id  star_rating  helpful_votes  total_votes vine  \\\n",
            "18    R28RB82UG4RDD5          5.0           20.0         20.0    N   \n",
            "233   R3FB6BERWPEIJP          4.0           40.0         43.0    N   \n",
            "615   R1D4Z38STRDQXK          5.0           53.0         56.0    N   \n",
            "1065  R1XMWJZICINIFX          3.0           20.0         21.0    N   \n",
            "1105  R20QKY1GABXFLM          1.0          272.0        297.0    N   \n",
            "\n",
            "     verified_purchase  \n",
            "18                   Y  \n",
            "233                  Y  \n",
            "615                  Y  \n",
            "1065                 Y  \n",
            "1105                 Y  \n"
          ]
        }
      ],
      "source": [
        "# Step 2: Filter the df_filtered DataFrame to retrieve all rows where the helpful_votes divided by total_votes is greater than or equal to 50%\n",
        "df_helpful = df_filtered.loc[(df_filtered['helpful_votes'] / df_filtered['total_votes']) >= 0.5]\n",
        "print(df_helpful.head())"
      ]
    },
    {
      "cell_type": "code",
      "execution_count": null,
      "id": "fcca7086",
      "metadata": {
        "id": "fcca7086",
        "outputId": "31f743f4-1802-42db-da94-535dc05f796d"
      },
      "outputs": [
        {
          "name": "stdout",
          "output_type": "stream",
          "text": [
            "            review_id  star_rating  helpful_votes  total_votes vine  \\\n",
            "13470  R1Z71RW4J9IK93          5.0           20.0         22.0    Y   \n",
            "18140  R3FVB5QI11KI9Q          4.0          192.0        200.0    Y   \n",
            "20156  R2G027YBMVXV6Y          5.0           39.0         48.0    Y   \n",
            "26393  R1QGBAN7BMGWRR          5.0          121.0        129.0    Y   \n",
            "28369  R2NH2AU7XL9ZDZ          3.0           18.0         20.0    Y   \n",
            "\n",
            "      verified_purchase  \n",
            "13470                 N  \n",
            "18140                 N  \n",
            "20156                 N  \n",
            "26393                 N  \n",
            "28369                 N  \n"
          ]
        }
      ],
      "source": [
        "# Step 3: Filter the df_helpful DataFrame to retrieve all rows where the review was part of the Vine program\n",
        "df_vine = df_helpful.loc[df_helpful['vine'] == 'Y']\n",
        "print(df_vine.head())"
      ]
    },
    {
      "cell_type": "code",
      "execution_count": null,
      "id": "891db758",
      "metadata": {
        "id": "891db758",
        "outputId": "01727bc4-1dcc-43af-8ace-dfb4488c3810"
      },
      "outputs": [
        {
          "name": "stdout",
          "output_type": "stream",
          "text": [
            "           review_id  star_rating  helpful_votes  total_votes vine  \\\n",
            "18    R28RB82UG4RDD5          5.0           20.0         20.0    N   \n",
            "233   R3FB6BERWPEIJP          4.0           40.0         43.0    N   \n",
            "615   R1D4Z38STRDQXK          5.0           53.0         56.0    N   \n",
            "1065  R1XMWJZICINIFX          3.0           20.0         21.0    N   \n",
            "1105  R20QKY1GABXFLM          1.0          272.0        297.0    N   \n",
            "\n",
            "     verified_purchase  \n",
            "18                   Y  \n",
            "233                  Y  \n",
            "615                  Y  \n",
            "1065                 Y  \n",
            "1105                 Y  \n"
          ]
        }
      ],
      "source": [
        "# Step 4: Filter the df_helpful DataFrame to retrieve all rows where the review was not part of the Vine program\n",
        "df_non_vine = df_helpful.loc[df_helpful['vine'] == 'N']\n",
        "print(df_non_vine.head())"
      ]
    },
    {
      "cell_type": "code",
      "execution_count": null,
      "id": "306c4ebd",
      "metadata": {
        "id": "306c4ebd"
      },
      "outputs": [],
      "source": [
        "# Step 5: Determine the total number of reviews, number of 5-star reviews, and percentage of 5-star reviews for the two types of review\n",
        "total_reviews = len(df_helpful)\n",
        "total_5_star_reviews_vine = len(df_vine.loc[df_vine['star_rating'] == 5])\n",
        "total_5_star_reviews_non_vine = len(df_non_vine.loc[df_non_vine['star_rating'] == 5])\n",
        "percent_5_star_reviews_vine = total_5_star_reviews_vine / total_reviews * 100\n",
        "percent_5_star_reviews_non_vine = total_5_star_reviews_non_vine / total_reviews * 100"
      ]
    },
    {
      "cell_type": "code",
      "execution_count": null,
      "id": "128bfb6a",
      "metadata": {
        "id": "128bfb6a",
        "outputId": "19a6d8c7-3758-46de-991c-2ca82a9f5b62"
      },
      "outputs": [
        {
          "name": "stdout",
          "output_type": "stream",
          "text": [
            "Total number of reviews:  99046\n",
            "Number of 5-star reviews for Vine program:  509\n",
            "Number of 5-star reviews for non-Vine program:  45858\n",
            "Percentage of 5-star reviews for Vine program:  0.51 %\n",
            "Percentage of 5-star reviews for non-Vine program:  46.3 %\n"
          ]
        }
      ],
      "source": [
        "# Print the results\n",
        "print(\"Total number of reviews: \", total_reviews)\n",
        "print(\"Number of 5-star reviews for Vine program: \", total_5_star_reviews_vine)\n",
        "print(\"Number of 5-star reviews for non-Vine program: \", total_5_star_reviews_non_vine)\n",
        "print(\"Percentage of 5-star reviews for Vine program: \", round(percent_5_star_reviews_vine, 2), \"%\")\n",
        "print(\"Percentage of 5-star reviews for non-Vine program: \", round(percent_5_star_reviews_non_vine, 2), \"%\")"
      ]
    },
    {
      "cell_type": "code",
      "execution_count": null,
      "id": "c5586466",
      "metadata": {
        "id": "c5586466"
      },
      "outputs": [],
      "source": []
    }
  ],
  "metadata": {
    "kernelspec": {
      "display_name": "PythonData",
      "language": "python",
      "name": "pythondata"
    },
    "language_info": {
      "codemirror_mode": {
        "name": "ipython",
        "version": 3
      },
      "file_extension": ".py",
      "mimetype": "text/x-python",
      "name": "python",
      "nbconvert_exporter": "python",
      "pygments_lexer": "ipython3",
      "version": "3.9.12"
    },
    "colab": {
      "provenance": [],
      "include_colab_link": true
    }
  },
  "nbformat": 4,
  "nbformat_minor": 5
}